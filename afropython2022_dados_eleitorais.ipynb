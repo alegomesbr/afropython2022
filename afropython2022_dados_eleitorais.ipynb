{
 "cells": [
  {
   "cell_type": "markdown",
   "id": "cb9ffb4e",
   "metadata": {},
   "source": [
    "# Análise de gênero e raça de candidaturas das eleições de 2018 com Pandas\n",
    "\n",
    "\n",
    "Código utilizado para apresentação na AfroPythonConf 2022. Os dados podem ser obtidos no Portal de Dados Abertos do TSE: https://dadosabertos.tse.jus.br/\n"
   ]
  },
  {
   "cell_type": "code",
   "execution_count": 10,
   "id": "aad92745",
   "metadata": {},
   "outputs": [],
   "source": [
    "import pandas as pd\n",
    "import matplotlib.pyplot as plt\n",
    "\n",
    "low_memory=False"
   ]
  },
  {
   "cell_type": "markdown",
   "id": "8f958f04",
   "metadata": {},
   "source": [
    "O atributo <span style=\"font-family:Courier\">shape</span> retorna as dimensões do dataframe. Dessa forma, podemos ter uma visão inicial da quantidade de registros de candidaturas e dos atributos que as identificam.\n",
    "O resultado (29180, 63) indica que o arquivo possui 29180 registros de candidaturas e 63 atributos."
   ]
  },
  {
   "cell_type": "code",
   "execution_count": 13,
   "id": "83264710",
   "metadata": {},
   "outputs": [
    {
     "data": {
      "text/plain": [
       "(29180, 63)"
      ]
     },
     "execution_count": 13,
     "metadata": {},
     "output_type": "execute_result"
    }
   ],
   "source": [
    "df = pd.read_csv(\"consulta_cand_2018\\consulta_cand_2018_BRASIL.csv\", delimiter=\";\", encoding=\"ISO-8859-1\", low_memory=False)\n",
    "df.shape"
   ]
  },
  {
   "cell_type": "markdown",
   "id": "35a22296",
   "metadata": {},
   "source": [
    "O atributo <span style=\"font-family:Courier\">columns</span> retorna as colunas do dataframe. Assim, podemos saber quais são os 63 atributos que descrevem os registros de candidaturas."
   ]
  },
  {
   "cell_type": "code",
   "execution_count": 15,
   "id": "3a991bea",
   "metadata": {},
   "outputs": [
    {
     "data": {
      "text/plain": [
       "Index(['DT_GERACAO', 'HH_GERACAO', 'ANO_ELEICAO', 'CD_TIPO_ELEICAO',\n",
       "       'NM_TIPO_ELEICAO', 'NR_TURNO', 'CD_ELEICAO', 'DS_ELEICAO', 'DT_ELEICAO',\n",
       "       'TP_ABRANGENCIA', 'SG_UF', 'SG_UE', 'NM_UE', 'CD_CARGO', 'DS_CARGO',\n",
       "       'SQ_CANDIDATO', 'NR_CANDIDATO', 'NM_CANDIDATO', 'NM_URNA_CANDIDATO',\n",
       "       'NM_SOCIAL_CANDIDATO', 'NR_CPF_CANDIDATO', 'NM_EMAIL',\n",
       "       'CD_SITUACAO_CANDIDATURA', 'DS_SITUACAO_CANDIDATURA',\n",
       "       'CD_DETALHE_SITUACAO_CAND', 'DS_DETALHE_SITUACAO_CAND', 'TP_AGREMIACAO',\n",
       "       'NR_PARTIDO', 'SG_PARTIDO', 'NM_PARTIDO', 'SQ_COLIGACAO',\n",
       "       'NM_COLIGACAO', 'DS_COMPOSICAO_COLIGACAO', 'CD_NACIONALIDADE',\n",
       "       'DS_NACIONALIDADE', 'SG_UF_NASCIMENTO', 'CD_MUNICIPIO_NASCIMENTO',\n",
       "       'NM_MUNICIPIO_NASCIMENTO', 'DT_NASCIMENTO', 'NR_IDADE_DATA_POSSE',\n",
       "       'NR_TITULO_ELEITORAL_CANDIDATO', 'CD_GENERO', 'DS_GENERO',\n",
       "       'CD_GRAU_INSTRUCAO', 'DS_GRAU_INSTRUCAO', 'CD_ESTADO_CIVIL',\n",
       "       'DS_ESTADO_CIVIL', 'CD_COR_RACA', 'DS_COR_RACA', 'CD_OCUPACAO',\n",
       "       'DS_OCUPACAO', 'VR_DESPESA_MAX_CAMPANHA', 'CD_SIT_TOT_TURNO',\n",
       "       'DS_SIT_TOT_TURNO', 'ST_REELEICAO', 'ST_DECLARAR_BENS',\n",
       "       'NR_PROTOCOLO_CANDIDATURA', 'NR_PROCESSO',\n",
       "       'CD_SITUACAO_CANDIDATO_PLEITO', 'DS_SITUACAO_CANDIDATO_PLEITO',\n",
       "       'CD_SITUACAO_CANDIDATO_URNA', 'DS_SITUACAO_CANDIDATO_URNA',\n",
       "       'ST_CANDIDATO_INSERIDO_URNA'],\n",
       "      dtype='object')"
      ]
     },
     "execution_count": 15,
     "metadata": {},
     "output_type": "execute_result"
    }
   ],
   "source": [
    "df.columns"
   ]
  },
  {
   "cell_type": "markdown",
   "id": "3fcd8429",
   "metadata": {},
   "source": [
    "Para exibir os dados de uma respectiva coluna, por exemplo, os cargos"
   ]
  },
  {
   "cell_type": "code",
   "execution_count": 16,
   "id": "78efd286",
   "metadata": {},
   "outputs": [
    {
     "data": {
      "text/plain": [
       "0          DEPUTADO FEDERAL\n",
       "1          DEPUTADO FEDERAL\n",
       "2        DEPUTADO DISTRITAL\n",
       "3         DEPUTADO ESTADUAL\n",
       "4        DEPUTADO DISTRITAL\n",
       "                ...        \n",
       "29175     DEPUTADO ESTADUAL\n",
       "29176     DEPUTADO ESTADUAL\n",
       "29177     DEPUTADO ESTADUAL\n",
       "29178     DEPUTADO ESTADUAL\n",
       "29179     DEPUTADO ESTADUAL\n",
       "Name: DS_CARGO, Length: 29180, dtype: object"
      ]
     },
     "execution_count": 16,
     "metadata": {},
     "output_type": "execute_result"
    }
   ],
   "source": [
    "df['DS_CARGO']"
   ]
  },
  {
   "cell_type": "markdown",
   "id": "e1646316",
   "metadata": {},
   "source": [
    "Podemos também pedir para exibir apenas as categorias que existem nesta coluna"
   ]
  },
  {
   "cell_type": "code",
   "execution_count": 17,
   "id": "8e1cf405",
   "metadata": {},
   "outputs": [
    {
     "data": {
      "text/plain": [
       "array(['DEPUTADO FEDERAL', 'DEPUTADO DISTRITAL', 'DEPUTADO ESTADUAL',\n",
       "       '2º SUPLENTE', 'SENADOR', 'VICE-GOVERNADOR', 'GOVERNADOR',\n",
       "       '1º SUPLENTE', 'PRESIDENTE', 'VICE-PRESIDENTE'], dtype=object)"
      ]
     },
     "execution_count": 17,
     "metadata": {},
     "output_type": "execute_result"
    }
   ],
   "source": [
    "df['DS_CARGO'].unique()"
   ]
  },
  {
   "cell_type": "markdown",
   "id": "26342b0b",
   "metadata": {},
   "source": [
    "Para ver ordenadamente:"
   ]
  },
  {
   "cell_type": "code",
   "execution_count": 18,
   "id": "614c6745",
   "metadata": {},
   "outputs": [
    {
     "data": {
      "text/plain": [
       "['1º SUPLENTE',\n",
       " '2º SUPLENTE',\n",
       " 'DEPUTADO DISTRITAL',\n",
       " 'DEPUTADO ESTADUAL',\n",
       " 'DEPUTADO FEDERAL',\n",
       " 'GOVERNADOR',\n",
       " 'PRESIDENTE',\n",
       " 'SENADOR',\n",
       " 'VICE-GOVERNADOR',\n",
       " 'VICE-PRESIDENTE']"
      ]
     },
     "execution_count": 18,
     "metadata": {},
     "output_type": "execute_result"
    }
   ],
   "source": [
    "sorted(df['DS_CARGO'].unique())"
   ]
  },
  {
   "cell_type": "markdown",
   "id": "1a11ee8a",
   "metadata": {},
   "source": [
    "Vamos explorar outras duas colunas (que iremos chamar de atributos a partir daqui) que nos ajudarão nas análises:\n",
    "\n",
    "- DS_SITUACAO_CANDIDATURA -> Identifica a situação da candidatura (Apto ou Inapto a concorrer as eleições)\n",
    "- DS_GENERO -> Identifica a autodeclaração de gênero da pessoa candidata\n",
    "- DS_COR_RACA -> Identifica a autodeclaração de cor/raça da pessoa candidata"
   ]
  },
  {
   "cell_type": "code",
   "execution_count": 19,
   "id": "7b11488e",
   "metadata": {},
   "outputs": [
    {
     "data": {
      "text/plain": [
       "['APTO', 'INAPTO']"
      ]
     },
     "execution_count": 19,
     "metadata": {},
     "output_type": "execute_result"
    }
   ],
   "source": [
    "sorted(df['DS_SITUACAO_CANDIDATURA'].unique())"
   ]
  },
  {
   "cell_type": "code",
   "execution_count": 20,
   "id": "80f5efe5",
   "metadata": {},
   "outputs": [
    {
     "data": {
      "text/plain": [
       "['FEMININO', 'MASCULINO', 'NÃO DIVULGÁVEL']"
      ]
     },
     "execution_count": 20,
     "metadata": {},
     "output_type": "execute_result"
    }
   ],
   "source": [
    "sorted(df['DS_GENERO'].unique())"
   ]
  },
  {
   "cell_type": "code",
   "execution_count": 21,
   "id": "c991fa06",
   "metadata": {},
   "outputs": [
    {
     "data": {
      "text/plain": [
       "['AMARELA', 'BRANCA', 'INDÍGENA', 'NÃO DIVULGÁVEL', 'PARDA', 'PRETA']"
      ]
     },
     "execution_count": 21,
     "metadata": {},
     "output_type": "execute_result"
    }
   ],
   "source": [
    "sorted(df['DS_COR_RACA'].unique())"
   ]
  },
  {
   "cell_type": "markdown",
   "id": "949b18ff",
   "metadata": {},
   "source": [
    "Podemos observar que algumas pessoas optaram por não declarar gênero e raça\n",
    "\n",
    "Vamos explorar mais um pouco estes atributos. Com a função <span style=\"font-family:Courier\">size()</span> conseguimos ver a quantidade de registros de candidatura para cada uma destas categorias."
   ]
  },
  {
   "cell_type": "code",
   "execution_count": 22,
   "id": "6b95fcb1",
   "metadata": {},
   "outputs": [
    {
     "data": {
      "text/plain": [
       "DS_CARGO\n",
       "1º SUPLENTE             398\n",
       "2º SUPLENTE             405\n",
       "DEPUTADO DISTRITAL      981\n",
       "DEPUTADO ESTADUAL     17941\n",
       "DEPUTADO FEDERAL       8588\n",
       "GOVERNADOR              230\n",
       "PRESIDENTE               16\n",
       "SENADOR                 369\n",
       "VICE-GOVERNADOR         236\n",
       "VICE-PRESIDENTE          16\n",
       "dtype: int64"
      ]
     },
     "execution_count": 22,
     "metadata": {},
     "output_type": "execute_result"
    }
   ],
   "source": [
    "df.groupby('DS_CARGO').size()"
   ]
  },
  {
   "cell_type": "markdown",
   "id": "22520c00",
   "metadata": {},
   "source": [
    "Para cargo, podemos observar que Deputado Estadual foi o cargo com maior número de registros de candidaturas e a chapa Presidente/Vice-Presidente com menor número.\n",
    "\n",
    "Para a situação dos registros de candidaturas, podemos observar que foram 26156 consideradas aptas a concorrer às eleições e 26156 inaptas"
   ]
  },
  {
   "cell_type": "code",
   "execution_count": 23,
   "id": "f1bd0cea",
   "metadata": {},
   "outputs": [
    {
     "data": {
      "text/plain": [
       "DS_SITUACAO_CANDIDATURA\n",
       "APTO      26156\n",
       "INAPTO     3024\n",
       "dtype: int64"
      ]
     },
     "execution_count": 23,
     "metadata": {},
     "output_type": "execute_result"
    }
   ],
   "source": [
    "df.groupby('DS_SITUACAO_CANDIDATURA').size()"
   ]
  },
  {
   "cell_type": "markdown",
   "id": "4b3a3e38",
   "metadata": {},
   "source": [
    "Para gênero, podemos ver que de forma geral a quantidade de registros de candidaturas femininas (9221) foi bem abaixo das masculinas (19958)."
   ]
  },
  {
   "cell_type": "code",
   "execution_count": 24,
   "id": "438d85eb",
   "metadata": {},
   "outputs": [
    {
     "data": {
      "text/plain": [
       "DS_GENERO\n",
       "FEMININO           9221\n",
       "MASCULINO         19958\n",
       "NÃO DIVULGÁVEL        1\n",
       "dtype: int64"
      ]
     },
     "execution_count": 24,
     "metadata": {},
     "output_type": "execute_result"
    }
   ],
   "source": [
    "df.groupby('DS_GENERO').size()"
   ]
  },
  {
   "cell_type": "markdown",
   "id": "0553f1d3",
   "metadata": {},
   "source": [
    "Para cor/raça, podemos ver que a maioria dos registros foi de pessoas que se autodeclaram brancas, seguido de pessoas que se autodeclaram pardas e pretas. A soma dos registros de candidaturas pardas e pretas resulta em 13.569, que ainda é inferior a quantidade de registros de candidaturas brancas."
   ]
  },
  {
   "cell_type": "code",
   "execution_count": 25,
   "id": "f8ca77bb",
   "metadata": {},
   "outputs": [
    {
     "data": {
      "text/plain": [
       "DS_COR_RACA\n",
       "AMARELA             169\n",
       "BRANCA            15307\n",
       "INDÍGENA            134\n",
       "NÃO DIVULGÁVEL        1\n",
       "PARDA             10406\n",
       "PRETA              3163\n",
       "dtype: int64"
      ]
     },
     "execution_count": 25,
     "metadata": {},
     "output_type": "execute_result"
    }
   ],
   "source": [
    "df.groupby('DS_COR_RACA').size()"
   ]
  },
  {
   "cell_type": "markdown",
   "id": "b2e5a7a6",
   "metadata": {},
   "source": [
    "Vamos agora aplicar filtros, para exibir o total apenas de registros de candidaturas APTAS para cada cargo:"
   ]
  },
  {
   "cell_type": "code",
   "execution_count": 28,
   "id": "9c67781c",
   "metadata": {},
   "outputs": [
    {
     "data": {
      "text/plain": [
       "DS_CARGO\n",
       "1º SUPLENTE             327\n",
       "2º SUPLENTE             329\n",
       "DEPUTADO DISTRITAL      917\n",
       "DEPUTADO ESTADUAL     16156\n",
       "DEPUTADO FEDERAL       7647\n",
       "GOVERNADOR              212\n",
       "PRESIDENTE               15\n",
       "SENADOR                 325\n",
       "VICE-GOVERNADOR         213\n",
       "VICE-PRESIDENTE          15\n",
       "dtype: int64"
      ]
     },
     "execution_count": 28,
     "metadata": {},
     "output_type": "execute_result"
    }
   ],
   "source": [
    "filtro = (df['DS_SITUACAO_CANDIDATURA'] == 'APTO')\n",
    "df_filtrado = df[filtro]\n",
    "\n",
    "df_filtrado.groupby('DS_CARGO').size()"
   ]
  },
  {
   "cell_type": "markdown",
   "id": "1beb4e1c",
   "metadata": {},
   "source": [
    "Para seguir na nossa análise, vamos selecionar um cargo. Assim, daremos continuidade com o cargo que possui a maior quantidade de candidaturas, ou seja, Deputado Estadual. <br>\n",
    "Nosso próximo passo é criar um outro filtro:"
   ]
  },
  {
   "cell_type": "code",
   "execution_count": 29,
   "id": "184dd487",
   "metadata": {},
   "outputs": [
    {
     "data": {
      "text/plain": [
       "DS_CARGO\n",
       "DEPUTADO ESTADUAL    16156\n",
       "dtype: int64"
      ]
     },
     "execution_count": 29,
     "metadata": {},
     "output_type": "execute_result"
    }
   ],
   "source": [
    "filtro = (df['DS_SITUACAO_CANDIDATURA'] == 'APTO')\n",
    "filtro2 = (df['DS_CARGO'] == 'DEPUTADO ESTADUAL')\n",
    "df_filtrado = df[filtro & filtro2]\n",
    "\n",
    "df_filtrado.groupby('DS_CARGO').size()"
   ]
  },
  {
   "cell_type": "markdown",
   "id": "c3f0cf95",
   "metadata": {},
   "source": [
    "Vamos exibir a quantidade de candidaturas aptas para deputado estadual de acordo com gênero e raça.<br>\n",
    "Podemos notar que existiram candidaturas em todas as categorias de autodeclaração de gênero e raça, com a predominância de candidaturas homens brancos, seguido de homens pardos e mulheres brancas.<br>\n",
    "A soma de candidaturas de homens pardos e pretos resulta em 5390, que ainda é inferior a de candidaturas de homens brancos.<br>\n",
    "A soma de candidaturas de mulheres pardas e pretas resulta em 2477, que é mais próximo, porém ainda inferior a de candidaturas de mulheres brancas.<br>"
   ]
  },
  {
   "cell_type": "code",
   "execution_count": 30,
   "id": "9a2c7fc5",
   "metadata": {},
   "outputs": [
    {
     "data": {
      "text/plain": [
       "DS_GENERO  DS_COR_RACA\n",
       "FEMININO   AMARELA          25\n",
       "           BRANCA         2500\n",
       "           INDÍGENA         26\n",
       "           PARDA          1824\n",
       "           PRETA           653\n",
       "MASCULINO  AMARELA          60\n",
       "           BRANCA         5635\n",
       "           INDÍGENA         43\n",
       "           PARDA          4293\n",
       "           PRETA          1097\n",
       "dtype: int64"
      ]
     },
     "execution_count": 30,
     "metadata": {},
     "output_type": "execute_result"
    }
   ],
   "source": [
    "df_filtrado.groupby(['DS_GENERO', 'DS_COR_RACA']).size()"
   ]
  },
  {
   "cell_type": "markdown",
   "id": "e75fcef8",
   "metadata": {},
   "source": [
    "Vamos agora plotar esses resultados, para visualizar este resultado.<br> \n",
    "\n",
    "Para tanto, iremos utilizar a biblioteca matplotlib e plotar um gráfico de barras horizontal e ordenado."
   ]
  },
  {
   "cell_type": "code",
   "execution_count": 31,
   "id": "098d96f2",
   "metadata": {},
   "outputs": [
    {
     "data": {
      "text/plain": [
       "<AxesSubplot:ylabel='DS_GENERO,DS_COR_RACA'>"
      ]
     },
     "execution_count": 31,
     "metadata": {},
     "output_type": "execute_result"
    },
    {
     "data": {
      "image/png": "[encoded data removed]",
      "text/plain": [
       "<Figure size 432x288 with 1 Axes>"
      ]
     },
     "metadata": {
      "needs_background": "light"
     },
     "output_type": "display_data"
    }
   ],
   "source": [
    "df_filtrado.groupby(['DS_GENERO', 'DS_COR_RACA']).size().sort_values().plot(kind=\"barh\")"
   ]
  },
  {
   "cell_type": "markdown",
   "id": "8666a72b",
   "metadata": {},
   "source": [
    "Vamos visualizar agora apenas as candidaturas eleitas. Para tanto, vamos exibir as categorias em DS_SIT_TOT_TURNO para o cargo de deputado estadual."
   ]
  },
  {
   "cell_type": "code",
   "execution_count": 34,
   "id": "4821370e",
   "metadata": {},
   "outputs": [
    {
     "data": {
      "text/plain": [
       "array(['SUPLENTE', 'NÃO ELEITO', 'ELEITO POR MÉDIA', 'ELEITO POR QP'],\n",
       "      dtype=object)"
      ]
     },
     "execution_count": 34,
     "metadata": {},
     "output_type": "execute_result"
    }
   ],
   "source": [
    "df_filtrado['DS_SIT_TOT_TURNO'].unique()"
   ]
  },
  {
   "cell_type": "markdown",
   "id": "c3c2ff74",
   "metadata": {},
   "source": [
    "Por se tratar de uma eleição proporcional, os possíveis resultados para candidaturas eleitas a deputado estadual são 'ELEITO POR MÉDIA' e 'ELEITO POR QP'. Assim, vamos utilizar essas duas possibilidades para filtrar apenas as pessoas eleitas."
   ]
  },
  {
   "cell_type": "code",
   "execution_count": 40,
   "id": "da283b60",
   "metadata": {},
   "outputs": [
    {
     "data": {
      "text/plain": [
       "<AxesSubplot:ylabel='DS_GENERO,DS_COR_RACA'>"
      ]
     },
     "execution_count": 40,
     "metadata": {},
     "output_type": "execute_result"
    },
    {
     "data": {
      "image/png": "[encoded data removed]",
      "text/plain": [
       "<Figure size 432x288 with 1 Axes>"
      ]
     },
     "metadata": {
      "needs_background": "light"
     },
     "output_type": "display_data"
    }
   ],
   "source": [
    "filtro = (df['DS_SITUACAO_CANDIDATURA'] == 'APTO')\n",
    "filtro2 = (df['DS_CARGO'] == 'DEPUTADO ESTADUAL')\n",
    "filtro3 = ((df['DS_SIT_TOT_TURNO'] == 'ELEITO POR MÉDIA') | (df['DS_SIT_TOT_TURNO'] == 'ELEITO POR QP'))\n",
    "df_filtrado = df[filtro & filtro2 & filtro3]\n",
    "\n",
    "df_filtrado.groupby(['DS_GENERO', 'DS_COR_RACA']).size().sort_values().plot(kind=\"barh\")"
   ]
  },
  {
   "cell_type": "markdown",
   "id": "02f9cfec",
   "metadata": {},
   "source": [
    "Pelo plot acima, podemos notar que a quandidade de homens brancos eleitos foi um pouco mais que o dobro da de homens pardos."
   ]
  },
  {
   "cell_type": "markdown",
   "id": "ebffd16e",
   "metadata": {},
   "source": [
    "Por fim, vamos exibir a quantidade de candidaturas inaptas."
   ]
  },
  {
   "cell_type": "code",
   "execution_count": 41,
   "id": "467944b3",
   "metadata": {},
   "outputs": [
    {
     "data": {
      "text/plain": [
       "DS_CARGO\n",
       "1º SUPLENTE             71\n",
       "2º SUPLENTE             76\n",
       "DEPUTADO DISTRITAL      64\n",
       "DEPUTADO ESTADUAL     1785\n",
       "DEPUTADO FEDERAL       941\n",
       "GOVERNADOR              18\n",
       "PRESIDENTE               1\n",
       "SENADOR                 44\n",
       "VICE-GOVERNADOR         23\n",
       "VICE-PRESIDENTE          1\n",
       "dtype: int64"
      ]
     },
     "execution_count": 41,
     "metadata": {},
     "output_type": "execute_result"
    }
   ],
   "source": [
    "filtro = (df['DS_SITUACAO_CANDIDATURA'] == 'INAPTO')\n",
    "df_filtrado = df[filtro]\n",
    "\n",
    "df_filtrado.groupby('DS_CARGO').size()"
   ]
  },
  {
   "cell_type": "markdown",
   "id": "5bf56591",
   "metadata": {},
   "source": [
    "Destes totais, vamos visualizar a quantidade de candidaturas inaptas por gênero e raça. Para diferenciar, dessa vez vamos definir uma cor diferente para as barras."
   ]
  },
  {
   "cell_type": "code",
   "execution_count": 42,
   "id": "f875bdae",
   "metadata": {},
   "outputs": [
    {
     "data": {
      "text/plain": [
       "<AxesSubplot:ylabel='DS_GENERO,DS_COR_RACA'>"
      ]
     },
     "execution_count": 42,
     "metadata": {},
     "output_type": "execute_result"
    },
    {
     "data": {
      "image/png": "[encoded data removed]",
      "text/plain": [
       "<Figure size 432x288 with 1 Axes>"
      ]
     },
     "metadata": {
      "needs_background": "light"
     },
     "output_type": "display_data"
    }
   ],
   "source": [
    "df_filtrado.groupby(['DS_GENERO', 'DS_COR_RACA']).size().sort_values().plot(kind=\"barh\", color=\"red\")"
   ]
  },
  {
   "cell_type": "markdown",
   "id": "27e6add5",
   "metadata": {},
   "source": [
    "Como esperado, os recortes com maior número de candidaturas inaptas são os recortes com a maior quantidade de registros. Assim, vamos olhar esses dados por um outro ângulo. Do total de registros dentro de cada recorte de raça e gênero, qual possuiu o maior percentual de inaptos?"
   ]
  },
  {
   "cell_type": "code",
   "execution_count": 58,
   "id": "2ee90282",
   "metadata": {},
   "outputs": [
    {
     "data": {
      "text/plain": [
       "<AxesSubplot:ylabel='DS_GENERO,DS_COR_RACA'>"
      ]
     },
     "execution_count": 58,
     "metadata": {},
     "output_type": "execute_result"
    },
    {
     "data": {
      "image/png": "[encoded data removed]",
      "text/plain": [
       "<Figure size 432x288 with 1 Axes>"
      ]
     },
     "metadata": {
      "needs_background": "light"
     },
     "output_type": "display_data"
    }
   ],
   "source": [
    "filtro1 = (df['DS_SITUACAO_CANDIDATURA'] == 'INAPTO')\n",
    "filtro2 = (df['DS_CARGO'] == 'DEPUTADO ESTADUAL')\n",
    "df_inaptos = df[filtro1 & filtro2]\n",
    "\n",
    "df_todos = df[filtro2]\n",
    "\n",
    "df_inaptos_totais = df_inaptos.groupby(['DS_GENERO', 'DS_COR_RACA']).size()\n",
    "df_totais = df_todos.groupby(['DS_GENERO', 'DS_COR_RACA']).size()\n",
    "\n",
    "df_resultados = df_inaptos_totais/df_totais\n",
    "df_resultados.sort_values().plot(kind=\"barh\", color=\"green\")\n"
   ]
  },
  {
   "cell_type": "markdown",
   "id": "546d6246",
   "metadata": {},
   "source": [
    "Por este gráfico final, podemos observar que os recortes que possuíram maior percentual de candidaturas inaptas foram de mulheres amarelas, homens indígenas e mulheres pardas e pretas."
   ]
  },
  {
   "cell_type": "code",
   "execution_count": null,
   "id": "0932db72",
   "metadata": {},
   "outputs": [],
   "source": []
  }
 ],
 "metadata": {
  "kernelspec": {
   "display_name": "Python 3 (ipykernel)",
   "language": "python",
   "name": "python3"
  },
  "language_info": {
   "codemirror_mode": {
    "name": "ipython",
    "version": 3
   },
   "file_extension": ".py",
   "mimetype": "text/x-python",
   "name": "python",
   "nbconvert_exporter": "python",
   "pygments_lexer": "ipython3",
   "version": "3.8.5"
  }
 },
 "nbformat": 4,
 "nbformat_minor": 5
}
